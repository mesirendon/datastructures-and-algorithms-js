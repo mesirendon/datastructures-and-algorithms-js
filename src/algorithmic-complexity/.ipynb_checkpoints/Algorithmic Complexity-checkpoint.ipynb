{
 "cells": [
  {
   "cell_type": "markdown",
   "metadata": {},
   "source": [
    "# Algorithmic Complexity\n",
    "New computers seem to run any program without a problem. In addition, we can see computers with 1 TB Solid State Drives, up to 32 GB Memory, and Multicore Graphic Cards, among other excellent features.\n",
    "\n",
    "No matter how fast computers might be, they are not infinitely fast, and their memory is not free. Computers, therefore, are bounded to physical resource constraints. As a Software Engineer, you should consider a computer's physical load due to an implemented algorithm and the space it consumes.\n",
    "\n",
    "## Time Complexity\n",
    "![Functions](assets/functions.png)"
   ]
  }
 ],
 "metadata": {
  "kernelspec": {
   "display_name": "JavaScript (Node.js)",
   "language": "javascript",
   "name": "javascript"
  },
  "language_info": {
   "file_extension": ".js",
   "mimetype": "application/javascript",
   "name": "javascript",
   "version": "16.15.0"
  }
 },
 "nbformat": 4,
 "nbformat_minor": 2
}
