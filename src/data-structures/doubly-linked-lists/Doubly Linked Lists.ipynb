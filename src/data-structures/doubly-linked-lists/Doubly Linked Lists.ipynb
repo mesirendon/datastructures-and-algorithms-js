{
 "cells": [
  {
   "attachments": {},
   "cell_type": "markdown",
   "id": "918b32f5",
   "metadata": {},
   "source": [
    "[Back to Content](../../../content.md)\n",
    "# Doubly Linked Lists\n",
    "We already have seen the [Singly Linked List](../singly-linked-lists/Linked%20Lists.ipynb) topic. Doubly Linked Lists can be thought of as an extension of Singly Linked Lists where the new Nodes implementation points to not only the next Node but the previous Node, making it a bidirectional implementation.\n",
    "\n",
    "![Doubly Linked List](assets/doubly-linked-list.png)\n",
    "\n",
    "Linked lists can have multiple forms. We already have seen the Singly Linked List, but, as in this case, they can be Doubly Linked Lists, Sorted, Unsorted, or even Circular (i.e., the head's previous link points to the tail, and the tail's next link points to the head)."
   ]
  },
  {
   "cell_type": "markdown",
   "id": "1d744276",
   "metadata": {},
   "source": [
    "## Doubly Linked List Nodes\n",
    "We have a slightly different implementation from the normal Linked List Node. Here we need to add the previous link accessor."
   ]
  },
  {
   "cell_type": "code",
   "execution_count": 1,
   "id": "20e084a6",
   "metadata": {},
   "outputs": [],
   "source": [
    "class DoublyLinkedListNode {\n",
    "  constructor(value, next = null, previous = null,) {\n",
    "    this.value = value;\n",
    "    this.previous = previous;\n",
    "    this.next = next;\n",
    "  }\n",
    "}"
   ]
  },
  {
   "cell_type": "markdown",
   "id": "0aa84508",
   "metadata": {},
   "source": [
    "Linked list nodes are not the actual linked list. While we can perform certain operations, we still need to be careful and not lose references to head and tail accessors."
   ]
  },
  {
   "cell_type": "code",
   "execution_count": 2,
   "id": "915a3095",
   "metadata": {},
   "outputs": [
    {
     "name": "stdout",
     "output_type": "stream",
     "text": [
      "null <= 1 => 2\n",
      "1 <= 2 => 3\n",
      "2 <= 3 => null\n"
     ]
    },
    {
     "data": {
      "text/plain": [
       "null"
      ]
     },
     "execution_count": 2,
     "metadata": {},
     "output_type": "execute_result"
    }
   ],
   "source": [
    "head = new DoublyLinkedListNode(1);\n",
    "next = new DoublyLinkedListNode(2);\n",
    "tail = new DoublyLinkedListNode(3);\n",
    "\n",
    "next.next = tail;\n",
    "head.next = next;\n",
    "tail.previous = next;\n",
    "next.previous = head;\n",
    "\n",
    "current = head;\n",
    "\n",
    "while (current) {\n",
    "  console.log(\n",
    "    current.previous ? current.previous.value : 'null',\n",
    "    '<=', current.value, '=>',\n",
    "    current.next ? current.next.value : 'null'\n",
    "  );\n",
    "  current = current.next;\n",
    "}"
   ]
  },
  {
   "cell_type": "markdown",
   "id": "71502da6",
   "metadata": {},
   "source": [
    "## Doubly Linked List\n",
    "Once again, to avoid losing references, we must implement a wrapper `DoublyLinkedList` to help us keep them and perform operations on the linked list. I'll implement as many as needed to explain each procedure."
   ]
  },
  {
   "cell_type": "markdown",
   "id": "d00f0e05",
   "metadata": {},
   "source": [
    "### `doublylinkedList.length`\n",
    "We can set a `length` property for the doubly linked list with `O(1)` runtime since updating this property is an essential operation at insertion and deletion actions."
   ]
  },
  {
   "cell_type": "code",
   "execution_count": 3,
   "id": "d5b06fbe",
   "metadata": {},
   "outputs": [],
   "source": [
    "class AReallyBasicDoublyLinkedList {\n",
    "  constructor() {\n",
    "    this.head = null;\n",
    "    this.tail = null;\n",
    "    this.length = 0;\n",
    "  }\n",
    "}"
   ]
  },
  {
   "cell_type": "markdown",
   "id": "d4a95492",
   "metadata": {},
   "source": [
    "This `AReallyBasicDoublyLinkedList` is not helpful, but it allows us to see how we can access the `length` property at any given time."
   ]
  },
  {
   "cell_type": "code",
   "execution_count": 4,
   "id": "df4fc8da",
   "metadata": {},
   "outputs": [
    {
     "name": "stdout",
     "output_type": "stream",
     "text": [
      "Recently Doubly Linked List's length: 0\n"
     ]
    }
   ],
   "source": [
    "doublylinkedList = new AReallyBasicDoublyLinkedList();\n",
    "console.log(`Recently Doubly Linked List's length: ${doublylinkedList.length}`);"
   ]
  },
  {
   "cell_type": "markdown",
   "id": "946b704f",
   "metadata": {},
   "source": [
    "### `doublyLinkedList.prepend`\n",
    "**Prepend** adds a node at the beginning of the doubly linked list. The new prepended node must be linked to the list's head, and its next node must point to the previous head node. Unlike singly linked lists, we must manipulate the previous head because it has to point to the current head as its previous node. This operation is $O(n)$ runtime because the node to manipulate is easily located through the linked list's head pointer.\n",
    "\n",
    "![Doubly Linked List Prepend](assets/prepend.png)"
   ]
  },
  {
   "cell_type": "code",
   "execution_count": 5,
   "id": "2c27b0e7",
   "metadata": {},
   "outputs": [],
   "source": [
    "class PrependDoublyLinkedList {\n",
    "  constructor() {\n",
    "    this.head = null;\n",
    "    this.tail = null;\n",
    "    this.length = 0;\n",
    "  }\n",
    "\n",
    "  prepend(value) {\n",
    "    // We create the new node.\n",
    "    const newNode = new DoublyLinkedListNode(value);\n",
    "\n",
    "    // We must increase this linked list's size.\n",
    "    this.length++;\n",
    "\n",
    "    // If there is no head we must make the new node head and tail.\n",
    "    if (!this.head) {\n",
    "      this.head = newNode;\n",
    "      this.tail = newNode;\n",
    "      return this;\n",
    "    }\n",
    "\n",
    "    // Attach the new node to the start of the linked list.\n",
    "    this.head.previous = newNode;\n",
    "\n",
    "    // The current head must be the next of the new head.\n",
    "    newNode.next = this.head;\n",
    "\n",
    "    // Update the head reference to be the new node.\n",
    "    this.head = newNode;\n",
    "\n",
    "    return this;\n",
    "  }\n",
    "\n",
    "  toString() {\n",
    "    const nodes = ['null'];\n",
    "    let currentNode = this.head;\n",
    "    while (currentNode) {\n",
    "      nodes.push(currentNode.value);\n",
    "      currentNode = currentNode.next;\n",
    "    }\n",
    "    nodes.push('null');\n",
    "    return nodes.join('<=>');\n",
    "  }\n",
    "}"
   ]
  },
  {
   "cell_type": "code",
   "execution_count": 6,
   "id": "fd8e99d7",
   "metadata": {},
   "outputs": [
    {
     "name": "stdout",
     "output_type": "stream",
     "text": [
      "Doubly linked list's current length: 0\n",
      "Prepend 1, 2, 3, 4, and 5 as nodes.\n",
      "Doubly linked list's current length: 5\n",
      "Doubly Linked List: null<=>5<=>4<=>3<=>2<=>1<=>null\n"
     ]
    }
   ],
   "source": [
    "doublyLinkedList = new PrependDoublyLinkedList();\n",
    "console.log(`Doubly linked list's current length: ${doublyLinkedList.length}`);\n",
    "\n",
    "console.log(`Prepend 1, 2, 3, 4, and 5 as nodes.`)\n",
    "doublyLinkedList\n",
    "  .prepend(1)\n",
    "  .prepend(2)\n",
    "  .prepend(3)\n",
    "  .prepend(4)\n",
    "  .prepend(5);\n",
    "\n",
    "console.log(`Doubly linked list's current length: ${doublyLinkedList.length}`);\n",
    "console.log(`Doubly Linked List: ${doublyLinkedList.toString()}`);"
   ]
  },
  {
   "cell_type": "markdown",
   "id": "2a43919e",
   "metadata": {},
   "source": [
    "### `doublyLinkedList.append`\n",
    "**Append** adds a node at the end of the doubly linked list. The new appended node must be linked to the list's tail accessor and point to `null` for its `next` reference and to the previous tail for its `previous` accessor. The previous tail must update its `next` reference to the new tail. Its algorithmic complexity is $O(1)$.\n",
    "\n",
    "![Doubly Linked List Append](assets/append.png)"
   ]
  },
  {
   "cell_type": "code",
   "execution_count": 7,
   "id": "fd7ca5fb",
   "metadata": {},
   "outputs": [],
   "source": [
    "class AppendDoublyLinkedList {\n",
    "  constructor() {\n",
    "    this.head = null;\n",
    "    this.tail = null;\n",
    "    this.length = 0;\n",
    "  }\n",
    "\n",
    "  append(value) {\n",
    "    // We create the new node.\n",
    "    const newNode = new DoublyLinkedListNode(value);\n",
    "\n",
    "    // We must increase this linked list's size.\n",
    "    this.length++;\n",
    "\n",
    "    // If there is no head we must make the new node head and tail.\n",
    "    if (!this.head) {\n",
    "      this.head = newNode;\n",
    "      this.tail = newNode;\n",
    "      return this;\n",
    "    }\n",
    "\n",
    "    // Attach the new node to the end of the linked list.\n",
    "    this.tail.next = newNode;\n",
    "\n",
    "    // The current tail must be the previous of the new tail.\n",
    "    newNode.previous = this.tail;\n",
    "\n",
    "    // Update the tail reference to be the new node.\n",
    "    this.tail = newNode;\n",
    "\n",
    "    return this;\n",
    "  }\n",
    "\n",
    "  toString() {\n",
    "    const nodes = ['null'];\n",
    "    let currentNode = this.head;\n",
    "    while (currentNode) {\n",
    "      nodes.push(currentNode.value);\n",
    "      currentNode = currentNode.next;\n",
    "    }\n",
    "    nodes.push('null');\n",
    "    return nodes.join('<=>');\n",
    "  }\n",
    "}"
   ]
  },
  {
   "cell_type": "code",
   "execution_count": 8,
   "id": "4033718d",
   "metadata": {},
   "outputs": [
    {
     "name": "stdout",
     "output_type": "stream",
     "text": [
      "Doubly linked list's current length: 0\n",
      "Append 1, 2, 3, 4, and 5 as nodes.\n",
      "Doubly linked list's current length: 5\n",
      "Doubly Linked List: null<=>1<=>2<=>3<=>4<=>5<=>null\n"
     ]
    }
   ],
   "source": [
    "doublyLinkedList = new AppendDoublyLinkedList();\n",
    "console.log(`Doubly linked list's current length: ${doublyLinkedList.length}`);\n",
    "\n",
    "console.log(`Append 1, 2, 3, 4, and 5 as nodes.`)\n",
    "doublyLinkedList\n",
    "  .append(1)\n",
    "  .append(2)\n",
    "  .append(3)\n",
    "  .append(4)\n",
    "  .append(5);\n",
    "\n",
    "console.log(`Doubly linked list's current length: ${doublyLinkedList.length}`);\n",
    "console.log(`Doubly Linked List: ${doublyLinkedList.toString()}`);"
   ]
  },
  {
   "cell_type": "markdown",
   "id": "fa48a3bb",
   "metadata": {},
   "source": [
    "### `doublyLinkedList.insert`\n",
    "**Insert** adds a node at a given position in the linked list. We must place the newly inserted node between nodes that are already linked in the list. This operation is, however, more complex than prepending or appending since, in this case, we need to traverse the linked list up to the point of insertion and update references for the current node, the previous and next ones making the links as needed. Thus, insertion is an $O(n)$ runtime complexity operation.\n",
    "\n",
    "![Doubly Linked List Insertion](assets/insert.png)"
   ]
  },
  {
   "cell_type": "code",
   "execution_count": 9,
   "id": "8707d120",
   "metadata": {},
   "outputs": [],
   "source": [
    "class InsertDoublyLinkedList {\n",
    "  constructor() {\n",
    "    this.head = null;\n",
    "    this.tail = null;\n",
    "    this.length = 0;\n",
    "  }\n",
    "\n",
    "  prepend(value) {\n",
    "    const newNode = new DoublyLinkedListNode(value);\n",
    "    this.length++;\n",
    "    if (!this.head) {\n",
    "      this.head = newNode;\n",
    "      this.tail = newNode;\n",
    "      return this;\n",
    "    }\n",
    "    this.head.previous = newNode;\n",
    "    newNode.next = this.head;\n",
    "    this.head = newNode;\n",
    "    return this;\n",
    "  }\n",
    "\n",
    "  append(value) {\n",
    "    const newNode = new DoublyLinkedListNode(value);\n",
    "    this.length++;\n",
    "    if (!this.head) {\n",
    "      this.head = newNode;\n",
    "      this.tail = newNode;\n",
    "      return this;\n",
    "    }\n",
    "    this.tail.next = newNode;\n",
    "    newNode.previous = this.tail;\n",
    "    this.tail = newNode;\n",
    "    return this;\n",
    "  }\n",
    "\n",
    "  insert(value, rawIndex) {\n",
    "    // We must ensure the index is in the right boundary\n",
    "    const index = rawIndex < 0 ? 0 : rawIndex;\n",
    "\n",
    "    // If index is 0, we should prepend the new node.\n",
    "    if (index === 0) this.prepend(value);\n",
    "    else {\n",
    "      let count = 1;\n",
    "      let currentNode = this.head;\n",
    "      const newNode = new DoublyLinkedListNode(value);\n",
    "\n",
    "      // We find the position of insertion\n",
    "      while (currentNode) {\n",
    "        if (count === index) break;\n",
    "        currentNode = currentNode.next;\n",
    "        count++;\n",
    "      }\n",
    "\n",
    "      // If the node is found we perform the insertion\n",
    "      if (currentNode) {\n",
    "        this.length++;\n",
    "        newNode.next = currentNode.next;\n",
    "        newNode.previous = currentNode;\n",
    "        currentNode.next = newNode;\n",
    "      }\n",
    "\n",
    "      // If we don't find the node, it means that we must append the new node.\n",
    "      else this.append(value);\n",
    "    }\n",
    "\n",
    "    return this;\n",
    "  }\n",
    "\n",
    "  toString() {\n",
    "    const nodes = ['null'];\n",
    "    let currentNode = this.head;\n",
    "    while (currentNode) {\n",
    "      nodes.push(currentNode.value);\n",
    "      currentNode = currentNode.next;\n",
    "    }\n",
    "    nodes.push('null');\n",
    "    return nodes.join('<=>');\n",
    "  }\n",
    "}"
   ]
  },
  {
   "cell_type": "code",
   "execution_count": 10,
   "id": "b5784a04",
   "metadata": {},
   "outputs": [
    {
     "name": "stdout",
     "output_type": "stream",
     "text": [
      "Doubly Linked List: null<=>0<=>1<=>2<=>3<=>4<=>5<=>6<=>null\n"
     ]
    }
   ],
   "source": [
    "doublyLinkedList = new InsertDoublyLinkedList();\n",
    "\n",
    "doublyLinkedList\n",
    "  .append(1)\n",
    "  .append(3)\n",
    "  .append(5);\n",
    "\n",
    "doublyLinkedList\n",
    "  .insert(0, -100)\n",
    "  .insert(2, 2)\n",
    "  .insert(4, 4)\n",
    "  .insert(6, 10);\n",
    "\n",
    "console.log(`Doubly Linked List: ${doublyLinkedList.toString()}`);"
   ]
  },
  {
   "cell_type": "markdown",
   "id": "29ded023",
   "metadata": {},
   "source": [
    "I've used the previous methods `prepend` and `append` to build the insertion. How could we eliminate the append at the end of the list? You can modify as you need in the tests to get the same behavior. Remember not to change the tests but the code."
   ]
  },
  {
   "cell_type": "markdown",
   "id": "1a01255d",
   "metadata": {},
   "source": [
    "### `doublyLinkedList.fromArray`\n",
    "Appends each element in the given array to this doubly linked list. This operation has $O(A)$ runtime complexity. $A$ being the array's length."
   ]
  },
  {
   "cell_type": "code",
   "execution_count": 11,
   "id": "e8477628",
   "metadata": {},
   "outputs": [],
   "source": [
    "class FromArrayDoublyLinkedList {\n",
    "  constructor() {\n",
    "    this.head = null;\n",
    "    this.tail = null;\n",
    "    this.length = 0;\n",
    "  }\n",
    "\n",
    "  append(value) {\n",
    "    const newNode = new DoublyLinkedListNode(value);\n",
    "    this.length++;\n",
    "    if (!this.head) {\n",
    "      this.head = newNode;\n",
    "      this.tail = newNode;\n",
    "      return this;\n",
    "    }\n",
    "    this.tail.next = newNode;\n",
    "    newNode.previous = this.tail;\n",
    "    this.tail = newNode;\n",
    "    return this;\n",
    "  }\n",
    "\n",
    "  fromArray(array) {\n",
    "    for (const e of array) {\n",
    "      this.append(e);\n",
    "    }\n",
    "    return this;\n",
    "  }\n",
    "\n",
    "  toString() {\n",
    "    const nodes = ['null'];\n",
    "    let currentNode = this.head;\n",
    "    while (currentNode) {\n",
    "      nodes.push(currentNode.value);\n",
    "      currentNode = currentNode.next;\n",
    "    }\n",
    "    nodes.push('null');\n",
    "    return nodes.join('<=>');\n",
    "  }\n",
    "}"
   ]
  },
  {
   "cell_type": "code",
   "execution_count": 12,
   "id": "37d5192e",
   "metadata": {},
   "outputs": [
    {
     "name": "stdout",
     "output_type": "stream",
     "text": [
      "Doubly Linked List from Array: null<=>1<=>2<=>3<=>4<=>5<=>6<=>7<=>8<=>9<=>10<=>null\n"
     ]
    }
   ],
   "source": [
    "doublyLinkedList = new FromArrayDoublyLinkedList();\n",
    "doublyLinkedList\n",
    "  .fromArray([1, 2, 3, 4, 5])\n",
    "  .fromArray([6, 7, 8, 9, 10]);\n",
    "console.log(`Doubly Linked List from Array: ${doublyLinkedList.toString()}`);"
   ]
  },
  {
   "cell_type": "markdown",
   "id": "08ada9a5",
   "metadata": {},
   "source": [
    "### `doublyLinkedList.toArray()`\n",
    "This operation returns an array of all the nodes in this linked list. Since we must traverse the linked list, the runtime complexity is $O(n)$."
   ]
  },
  {
   "cell_type": "code",
   "execution_count": 13,
   "id": "6741cd15",
   "metadata": {},
   "outputs": [],
   "source": [
    "class ToArrayDoublyLinkedList {\n",
    "  constructor() {\n",
    "    this.head = null;\n",
    "    this.tail = null;\n",
    "    this.length = 0;\n",
    "  }\n",
    "\n",
    "  append(value) {\n",
    "    const newNode = new DoublyLinkedListNode(value);\n",
    "    this.length++;\n",
    "    if (!this.head) {\n",
    "      this.head = newNode;\n",
    "      this.tail = newNode;\n",
    "      return this;\n",
    "    }\n",
    "    this.tail.next = newNode;\n",
    "    newNode.previous = this.tail;\n",
    "    this.tail = newNode;\n",
    "    return this;\n",
    "  }\n",
    "\n",
    "  fromArray(array) {\n",
    "    for (const e of array) {\n",
    "      this.append(e);\n",
    "    }\n",
    "    return this;\n",
    "  }\n",
    "\n",
    "  toArray() {\n",
    "    const array = [];\n",
    "    let currentNode = this.head;\n",
    "    while (currentNode) {\n",
    "      array.push(currentNode);\n",
    "      currentNode = currentNode.next;\n",
    "    }\n",
    "    return array;\n",
    "  }\n",
    "\n",
    "  toString() {\n",
    "    const nodes = ['null'];\n",
    "    let currentNode = this.head;\n",
    "    while (currentNode) {\n",
    "      nodes.push(currentNode.value);\n",
    "      currentNode = currentNode.next;\n",
    "    }\n",
    "    nodes.push('null');\n",
    "    return nodes.join('<=>');\n",
    "  }\n",
    "}"
   ]
  },
  {
   "cell_type": "code",
   "execution_count": 14,
   "id": "b3ad52ec",
   "metadata": {},
   "outputs": [
    {
     "name": "stdout",
     "output_type": "stream",
     "text": [
      "Doubly Linked List: null<=>1<=>2<=>3<=>null\n",
      "1\n",
      "2\n",
      "3\n",
      "<ref *1> DoublyLinkedListNode {\n",
      "  value: 2,\n",
      "  previous: DoublyLinkedListNode {\n",
      "    value: 1,\n",
      "    previous: null,\n",
      "    next: [Circular *1]\n",
      "  },\n",
      "  next: DoublyLinkedListNode {\n",
      "    value: 3,\n",
      "    previous: [Circular *1],\n",
      "    next: null\n",
      "  }\n",
      "}\n"
     ]
    }
   ],
   "source": [
    "doublyLinkedList = new ToArrayDoublyLinkedList();\n",
    "doublyLinkedList.fromArray([1, 2, 3]);\n",
    "console.log(`Doubly Linked List: ${doublyLinkedList.toString()}`);\n",
    "nodes = doublyLinkedList.toArray();\n",
    "nodes.forEach((node) => console.log(node.value));\n",
    "console.log(nodes[1]);"
   ]
  },
  {
   "cell_type": "markdown",
   "id": "63a54c89",
   "metadata": {},
   "source": [
    "### `doublyLinkedList.find`\n",
    "**Find** operation receives a `finder` that can be a normal value (i.e., primitives like numbers or strings, etc.) or a custom finding function. We traverse the doubly linked list until we find the node that matches either the value or a node that matches the custom search function criteria.\n",
    "\n",
    "The worst case for this operation is $O(n)$ runtime complexity (i.e., the node is around the end of the linked list). The best case would be $O(1)$ runtime complexity (i.e., the node is around the beginning of the linked list).\n",
    "\n",
    "![Doubly Linked List Find](assets/find.png)"
   ]
  },
  {
   "cell_type": "code",
   "execution_count": 15,
   "id": "f0cf6f1d",
   "metadata": {},
   "outputs": [],
   "source": [
    "class FindDoublyLinkedList {\n",
    "  constructor() {\n",
    "    this.head = null;\n",
    "    this.tail = null;\n",
    "    this.length = 0;\n",
    "  }\n",
    "\n",
    "  append(value) {\n",
    "    const newNode = new DoublyLinkedListNode(value);\n",
    "    this.length++;\n",
    "    if (!this.head) {\n",
    "      this.head = newNode;\n",
    "      this.tail = newNode;\n",
    "      return this;\n",
    "    }\n",
    "    this.tail.next = newNode;\n",
    "    newNode.previous = this.tail;\n",
    "    this.tail = newNode;\n",
    "    return this;\n",
    "  }\n",
    "\n",
    "  find(finder) {\n",
    "    // If the list is empty we return null\n",
    "    if (!this.head) return null;\n",
    "\n",
    "    // We traverse the linked list\n",
    "    let currentNode = this.head;\n",
    "    while (currentNode) {\n",
    "      // If the finder is a function and the node fulfills the\n",
    "      // function's logic, we return it.\n",
    "      // It it's a value, we return that node by value\n",
    "      if (finder instanceof Function &&\n",
    "        finder(currentNode.value) ||\n",
    "        currentNode.value === finder) {\n",
    "        let found = currentNode;\n",
    "        found.next = null;\n",
    "        found.previous = null;\n",
    "        return found;\n",
    "      }\n",
    "      currentNode = currentNode.next;\n",
    "    }\n",
    "\n",
    "    return currentNode;\n",
    "  }\n",
    "\n",
    "  fromArray(array) {\n",
    "    for (const e of array) {\n",
    "      this.append(e);\n",
    "    }\n",
    "    return this;\n",
    "  }\n",
    "\n",
    "  toString() {\n",
    "    const nodes = ['null'];\n",
    "    let currentNode = this.head;\n",
    "    while (currentNode) {\n",
    "      nodes.push(currentNode.value);\n",
    "      currentNode = currentNode.next;\n",
    "    }\n",
    "    nodes.push('null');\n",
    "    return nodes.join('<=>');\n",
    "  }\n",
    "}"
   ]
  },
  {
   "cell_type": "code",
   "execution_count": 16,
   "id": "3a0f87f6",
   "metadata": {},
   "outputs": [
    {
     "name": "stdout",
     "output_type": "stream",
     "text": [
      "Doubly Linked List By Value: null<=>1<=>2<=>3<=>4<=>5<=>null\n",
      "Found node: {\"value\":3,\"previous\":null,\"next\":null}\n"
     ]
    }
   ],
   "source": [
    "doublyLinkedListByValue = new FindDoublyLinkedList();\n",
    "doublyLinkedListByValue.fromArray([1, 2, 3, 4, 5]);\n",
    "console.log(`Doubly Linked List By Value: ${doublyLinkedListByValue.toString()}`);\n",
    "found = doublyLinkedListByValue.find(3);\n",
    "console.log(`Found node: ${JSON.stringify(found)}`);"
   ]
  },
  {
   "cell_type": "markdown",
   "id": "e9e9bb91",
   "metadata": {},
   "source": [
    "**Note**: The founded node does not reference the linked list node's previous and next nodes. We could change this.\n",
    "\n",
    "**Note**: This implementation is a reduced version. The coded Doubly Linked List has a default comparator or a custom at the linked list's creation."
   ]
  },
  {
   "cell_type": "markdown",
   "id": "1e965976",
   "metadata": {},
   "source": [
    "Let's check by complex values..."
   ]
  },
  {
   "cell_type": "code",
   "execution_count": 17,
   "id": "d6a4b67b",
   "metadata": {},
   "outputs": [
    {
     "name": "stdout",
     "output_type": "stream",
     "text": [
      "Doubly Linked List objects: null<=>[object Object]<=>[object Object]<=>[object Object]<=>null\n",
      "Found node: {\"value\":{\"key\":\"k2\",\"value\":\"Value 2\"},\"previous\":null,\"next\":null}\n"
     ]
    }
   ],
   "source": [
    "doublyLinkedListByObject = new FindDoublyLinkedList();\n",
    "doublyLinkedListByObject.fromArray([\n",
    "  { key: 'k1', value: 'Value 1' },\n",
    "  { key: 'k2', value: 'Value 2' },\n",
    "  { key: 'k3', value: 'Value 3' },\n",
    "]);\n",
    "console.log(`Doubly Linked List objects: ${doublyLinkedListByObject.toString()}`);\n",
    "found = doublyLinkedListByObject.find((value) => value.key === 'k2');\n",
    "console.log(`Found node: ${JSON.stringify(found)}`);"
   ]
  },
  {
   "cell_type": "markdown",
   "id": "856fc469",
   "metadata": {},
   "source": [
    "### `doublyLinkedList.reverse`\n",
    "Reversing a linked list is a process that starts at the head node. Then, we have to traverse the list using three helper nodes. `currentNode` to know where we are, `previousNode` and `nextNode` to save a reference to the current node's previous and next nodes, and also to swap those values. After the whole list is traversed, we update the values for the head and tail accessors.\n",
    "\n",
    "![Doubly Linked List Reverse](assets/reverse.png)"
   ]
  },
  {
   "cell_type": "code",
   "execution_count": 18,
   "id": "c15845fa",
   "metadata": {},
   "outputs": [],
   "source": [
    "class ReverseDoublyLinkedList {\n",
    "  constructor() {\n",
    "    this.head = null;\n",
    "    this.tail = null;\n",
    "    this.length = 0;\n",
    "  }\n",
    "\n",
    "  append(value) {\n",
    "    const newNode = new DoublyLinkedListNode(value);\n",
    "    this.length++;\n",
    "    if (!this.head) {\n",
    "      this.head = newNode;\n",
    "      this.tail = newNode;\n",
    "      return this;\n",
    "    }\n",
    "    this.tail.next = newNode;\n",
    "    newNode.previous = this.tail;\n",
    "    this.tail = newNode;\n",
    "    return this;\n",
    "  }\n",
    "\n",
    "  reverse() {\n",
    "    // Create auxiliary sentinel nodes;\n",
    "    let currentNode = this.head;\n",
    "    let previousNode = null;\n",
    "    let nextNode = null;\n",
    "\n",
    "    while (currentNode) {\n",
    "      // Let's store current node's previous and next\n",
    "      // nodes references.\n",
    "      nextNode = currentNode.next;\n",
    "      previousNode = currentNode.previous;\n",
    "\n",
    "      // Let's swap current's previous and next nodes\n",
    "      // references.\n",
    "      currentNode.next = previousNode;\n",
    "      currentNode.previous = nextNode;\n",
    "\n",
    "      // The previous is our current for next iteration.\n",
    "      previousNode = currentNode;\n",
    "\n",
    "      // Our current is next node for next iteration.\n",
    "      currentNode = nextNode;\n",
    "    }\n",
    "\n",
    "    // We update references of head and tail sentinel nodes.\n",
    "    this.tail = this.head;\n",
    "    this.head = previousNode;\n",
    "\n",
    "    return this;\n",
    "  }\n",
    "\n",
    "  fromArray(array) {\n",
    "    for (const e of array) {\n",
    "      this.append(e);\n",
    "    }\n",
    "    return this;\n",
    "  }\n",
    "\n",
    "  toString() {\n",
    "    const nodes = ['null'];\n",
    "    let currentNode = this.head;\n",
    "    while (currentNode) {\n",
    "      nodes.push(currentNode.value);\n",
    "      currentNode = currentNode.next;\n",
    "    }\n",
    "    nodes.push('null');\n",
    "    return nodes.join('<=>');\n",
    "  }\n",
    "}"
   ]
  },
  {
   "cell_type": "code",
   "execution_count": 19,
   "id": "f9a5d8a5",
   "metadata": {},
   "outputs": [
    {
     "name": "stdout",
     "output_type": "stream",
     "text": [
      "Doubly Linked List Normal: null<=>1<=>2<=>3<=>4<=>null\n",
      "Doubly Linked List Reverserd: null<=>4<=>3<=>2<=>1<=>null\n"
     ]
    }
   ],
   "source": [
    "doublyLinkedList = new ReverseDoublyLinkedList();\n",
    "doublyLinkedList.fromArray([1, 2, 3, 4]);\n",
    "console.log(`Doubly Linked List Normal: ${doublyLinkedList.toString()}`);\n",
    "doublyLinkedList.reverse();\n",
    "console.log(`Doubly Linked List Reverserd: ${doublyLinkedList.toString()}`);"
   ]
  },
  {
   "cell_type": "markdown",
   "id": "3248131b",
   "metadata": {},
   "source": [
    "### `doublyLinkedList.deleteHead`\n",
    "The user will get the node in the head accessor by deleting the head. The linked list will have its previous' head next node as the new head as the previous head has been detached. The new head must point its previous node to null. Since we can access the head immediately, this operation is $O(1)$ runtime complex.\n",
    "\n",
    "![Doubly Linked List Delete Head](assets/delete-head.png)"
   ]
  },
  {
   "cell_type": "code",
   "execution_count": 20,
   "id": "25732757",
   "metadata": {},
   "outputs": [],
   "source": [
    "class DeleteHeadDoublyLinkedList {\n",
    "  constructor() {\n",
    "    this.head = null;\n",
    "    this.tail = null;\n",
    "    this.length = 0;\n",
    "  }\n",
    "\n",
    "  append(value) {\n",
    "    const newNode = new DoublyLinkedListNode(value);\n",
    "    this.length++;\n",
    "    if (!this.head) {\n",
    "      this.head = newNode;\n",
    "      this.tail = newNode;\n",
    "      return this;\n",
    "    }\n",
    "    this.tail.next = newNode;\n",
    "    newNode.previous = this.tail;\n",
    "    this.tail = newNode;\n",
    "    return this;\n",
    "  }\n",
    "\n",
    "  deleteHead() {\n",
    "    // If the list is empty we return null.\n",
    "    if (!this.head) return null;\n",
    "\n",
    "    // We dettach the head.\n",
    "    let deleted = this.head;\n",
    "\n",
    "    // We update this list head.\n",
    "    this.head = deleted.next;\n",
    "\n",
    "    // We clean the new head previous to null.\n",
    "    this.head.previous = null;\n",
    "\n",
    "    // We clean the deleted node before returning it.\n",
    "    deleted.next = null;\n",
    "\n",
    "    // We update this list length\n",
    "    this.length--;\n",
    "\n",
    "    return deleted;\n",
    "  }\n",
    "\n",
    "  fromArray(array) {\n",
    "    for (const e of array) {\n",
    "      this.append(e);\n",
    "    }\n",
    "    return this;\n",
    "  }\n",
    "\n",
    "  toString() {\n",
    "    const nodes = ['null'];\n",
    "    let currentNode = this.head;\n",
    "    while (currentNode) {\n",
    "      nodes.push(currentNode.value);\n",
    "      currentNode = currentNode.next;\n",
    "    }\n",
    "    nodes.push('null');\n",
    "    return nodes.join('<=>');\n",
    "  }\n",
    "}"
   ]
  },
  {
   "cell_type": "code",
   "execution_count": 21,
   "id": "7bc665c6",
   "metadata": {},
   "outputs": [
    {
     "name": "stdout",
     "output_type": "stream",
     "text": [
      "Initial Doubly Linked List: null<=>0<=>1<=>2<=>3<=>4<=>null\n",
      "Deleted Head: {\"value\":0,\"previous\":null,\"next\":null}\n",
      "Modified Doubly Linked List: null<=>1<=>2<=>3<=>4<=>null\n"
     ]
    }
   ],
   "source": [
    "doublyLinkedList = new DeleteHeadDoublyLinkedList();\n",
    "doublyLinkedList.fromArray([0, 1, 2, 3, 4]);\n",
    "console.log(`Initial Doubly Linked List: ${doublyLinkedList.toString()}`);\n",
    "dettachedHead = doublyLinkedList.deleteHead();\n",
    "console.log(`Deleted Head: ${JSON.stringify(dettachedHead)}`);\n",
    "console.log(`Modified Doubly Linked List: ${doublyLinkedList.toString()}`);"
   ]
  },
  {
   "cell_type": "markdown",
   "id": "d9ab39ee",
   "metadata": {},
   "source": [
    "### `doublyLinkedList.deleteTail`\n",
    "The user will get the node in the tail by deleting the tail. The linked list will have its current tail detached and replaced by its previous referenced node. Unlike Singly Linked Lists, here we don't need to traverse the whole list making the tail deletion $O(1)$ runtime complex because we have a way to update the deleted tail previous node to make it the new tail.\n",
    "\n",
    "![Doubly Linked List Delete Tail](assets/delete-tail.png)"
   ]
  },
  {
   "cell_type": "code",
   "execution_count": 22,
   "id": "11f42994",
   "metadata": {},
   "outputs": [],
   "source": [
    "class DeleteTailDoublyLinkedList {\n",
    "  constructor() {\n",
    "    this.head = null;\n",
    "    this.tail = null;\n",
    "    this.length = 0;\n",
    "  }\n",
    "\n",
    "  append(value) {\n",
    "    const newNode = new DoublyLinkedListNode(value);\n",
    "    this.length++;\n",
    "    if (!this.head) {\n",
    "      this.head = newNode;\n",
    "      this.tail = newNode;\n",
    "      return this;\n",
    "    }\n",
    "    this.tail.next = newNode;\n",
    "    newNode.previous = this.tail;\n",
    "    this.tail = newNode;\n",
    "    return this;\n",
    "  }\n",
    "\n",
    "  deleteTail() {\n",
    "    // If the list is empty we return null.\n",
    "    if (!this.head) return null;\n",
    "\n",
    "    // We dettach the tail.\n",
    "    let deleted = this.tail;\n",
    "\n",
    "    // We update this list tail.\n",
    "    this.tail = deleted.previous;\n",
    "\n",
    "    // We clean the new tail next to null.\n",
    "    this.tail.next = null;\n",
    "\n",
    "    // We clean the deleted node before returning it.\n",
    "    deleted.previous = null;\n",
    "    this.length--;\n",
    "\n",
    "    return deleted;\n",
    "  }\n",
    "\n",
    "  fromArray(array) {\n",
    "    for (const e of array) {\n",
    "      this.append(e);\n",
    "    }\n",
    "    return this;\n",
    "  }\n",
    "\n",
    "  toString() {\n",
    "    const nodes = ['null'];\n",
    "    let currentNode = this.head;\n",
    "    while (currentNode) {\n",
    "      nodes.push(currentNode.value);\n",
    "      currentNode = currentNode.next;\n",
    "    }\n",
    "    nodes.push('null');\n",
    "    return nodes.join('<=>');\n",
    "  }\n",
    "}"
   ]
  },
  {
   "cell_type": "code",
   "execution_count": 23,
   "id": "0e7362c6",
   "metadata": {},
   "outputs": [
    {
     "name": "stdout",
     "output_type": "stream",
     "text": [
      "Doubly Linked List before deleting tail: null<=>0<=>1<=>2<=>3<=>null\n",
      "Deleted tail: {\"value\":3,\"previous\":null,\"next\":null}\n",
      "Doubly Linked List after deleting tail: null<=>0<=>1<=>2<=>null\n"
     ]
    }
   ],
   "source": [
    "doublyLinkedList = new DeleteTailDoublyLinkedList();\n",
    "doublyLinkedList.fromArray([0, 1, 2, 3]);\n",
    "console.log(`Doubly Linked List before deleting tail: ${doublyLinkedList.toString()}`);\n",
    "deleted = doublyLinkedList.deleteTail();\n",
    "console.log(`Deleted tail: ${JSON.stringify(deleted)}`);\n",
    "console.log(`Doubly Linked List after deleting tail: ${doublyLinkedList.toString()}`);"
   ]
  },
  {
   "cell_type": "markdown",
   "id": "d07c6477",
   "metadata": {},
   "source": [
    "### `doublyLinkedList.delete`\n",
    "**Delete** deletes a node that matches the given value. First, it tries deleting the value from the head. If it hasn't such value, it tries to delete it from the tail. This approach tries to keep the implementation in $O(1)$ runtime complexity. If neither the head nor tail has the value, it traverses the whole list from the beginning to lookup up the value and deletes it. This operation is $O(n)$ runtime complex for the worst case (i.e., the node is around the end of the linked list). The best case would be $O(1)$ runtime complex (i.e., the node is around the beginning of the linked list).\n",
    "\n",
    "![Doubly Linked List Delete](assets/delete.png)"
   ]
  },
  {
   "cell_type": "code",
   "execution_count": 24,
   "id": "13255f7e",
   "metadata": {},
   "outputs": [],
   "source": [
    "class DeleteDoublyLinkedList {\n",
    "  constructor() {\n",
    "    this.head = null;\n",
    "    this.tail = null;\n",
    "    this.length = 0;\n",
    "  }\n",
    "\n",
    "  append(value) {\n",
    "    const newNode = new DoublyLinkedListNode(value);\n",
    "    this.length++;\n",
    "    if (!this.head) {\n",
    "      this.head = newNode;\n",
    "      this.tail = newNode;\n",
    "      return this;\n",
    "    }\n",
    "    this.tail.next = newNode;\n",
    "    newNode.previous = this.tail;\n",
    "    this.tail = newNode;\n",
    "    return this;\n",
    "  }\n",
    "\n",
    "  deleteHead() {\n",
    "    if (!this.head) return null;\n",
    "    let deleted = this.head;\n",
    "    this.head = deleted.next;\n",
    "    this.head.previous = null;\n",
    "    deleted.next = null;\n",
    "    this.length--;\n",
    "    return deleted;\n",
    "  }\n",
    "\n",
    "  deleteTail() {\n",
    "    if (!this.head) return null;\n",
    "    let deleted = this.tail;\n",
    "    this.tail = deleted.previous;\n",
    "    this.tail.next = null;\n",
    "    deleted.previous = null;\n",
    "    this.length--;\n",
    "    return deleted;\n",
    "  }\n",
    "\n",
    "  delete(value) {\n",
    "    // If the list is empty we return null.\n",
    "    if (!this.head) return null;\n",
    "\n",
    "    // If the head has this value, we delete the head.\n",
    "    if (this.head.value === value) return this.deleteHead();\n",
    "\n",
    "    // If the tail has this value, we delete the tail.\n",
    "    if (this.tail.value === value) return this.deleteTail();\n",
    "\n",
    "    // We delete the first occurrence of the value.\n",
    "    let currentNode = this.head;\n",
    "    while (currentNode) {\n",
    "      if (currentNode.value === value) {\n",
    "        currentNode.previous.next = currentNode.next;\n",
    "        currentNode.next.previous = currentNode.previous;\n",
    "        currentNode.next = null;\n",
    "        currentNode.previous = null;\n",
    "        this.length--;\n",
    "        return currentNode;\n",
    "      }\n",
    "      currentNode = currentNode.next;\n",
    "    }\n",
    "\n",
    "    return null;\n",
    "  }\n",
    "\n",
    "  fromArray(array) {\n",
    "    for (const e of array) {\n",
    "      this.append(e);\n",
    "    }\n",
    "    return this;\n",
    "  }\n",
    "\n",
    "  toString() {\n",
    "    const nodes = ['null'];\n",
    "    let currentNode = this.head;\n",
    "    while (currentNode) {\n",
    "      nodes.push(currentNode.value);\n",
    "      currentNode = currentNode.next;\n",
    "    }\n",
    "    nodes.push('null');\n",
    "    return nodes.join('<=>');\n",
    "  }\n",
    "}"
   ]
  },
  {
   "cell_type": "code",
   "execution_count": 25,
   "id": "21490f7a",
   "metadata": {},
   "outputs": [
    {
     "name": "stdout",
     "output_type": "stream",
     "text": [
      "Doubly Linked List before deletion: null<=>1<=>2<=>1<=>3<=>1<=>null\n",
      "Deleted Node (The head): {\"value\":1,\"previous\":null,\"next\":null}\n",
      "Doubly Linked List after head deletion: null<=>2<=>1<=>3<=>1<=>null\n",
      "Deleted Node (The tail): {\"value\":1,\"previous\":null,\"next\":null}\n",
      "Doubly Linked List after tail deletion: null<=>2<=>1<=>3<=>null\n",
      "Deleted Node (internal): {\"value\":1,\"previous\":null,\"next\":null}\n",
      "Doubly Linked List after internal deletion: null<=>2<=>3<=>null\n",
      "Doubly Linked List length: 2\n"
     ]
    }
   ],
   "source": [
    "doublyLinkedList = new DeleteDoublyLinkedList();\n",
    "doublyLinkedList.fromArray([1, 2, 1, 3, 1]);\n",
    "console.log(`Doubly Linked List before deletion: ${doublyLinkedList.toString()}`);\n",
    "deleted = doublyLinkedList.delete(1);\n",
    "console.log(`Deleted Node (The head): ${JSON.stringify(deleted)}`);\n",
    "console.log(`Doubly Linked List after head deletion: ${doublyLinkedList.toString()}`);\n",
    "deleted = doublyLinkedList.delete(1);\n",
    "console.log(`Deleted Node (The tail): ${JSON.stringify(deleted)}`);\n",
    "console.log(`Doubly Linked List after tail deletion: ${doublyLinkedList.toString()}`);\n",
    "deleted = doublyLinkedList.delete(1);\n",
    "console.log(`Deleted Node (internal): ${JSON.stringify(deleted)}`);\n",
    "console.log(`Doubly Linked List after internal deletion: ${doublyLinkedList.toString()}`);\n",
    "console.log(`Doubly Linked List length: ${doublyLinkedList.length}`);"
   ]
  },
  {
   "cell_type": "markdown",
   "id": "60079d5d",
   "metadata": {},
   "source": [
    "You could implement it another way: try to modify to delete the first value found, and while you do it, think of the implications of complexity runtime for the tail deletion case. For example, is it still $O(1)$ runtime complex?\n",
    "\n",
    "**Note**: The actual implementation uses the internal compare function."
   ]
  },
  {
   "cell_type": "markdown",
   "id": "bbd6e480",
   "metadata": {},
   "source": [
    "### `doublyLinkedList.deleteAll`\n",
    "**Delete All** deletes all the nodes that match the given value. This option returns the last node that matched the given value. All the nodes matching the given value are detached from the doubly linked list. This operation has $O(n)$ runtime complexity because we need to guarantee having traversed the whole linked list.\n",
    "\n",
    "This approach eliminates first nodes at the head, then the tail, and then nodes between the head and tail.\n",
    "\n",
    "![Doubly Linked List Delete All](assets/delete-all.png)"
   ]
  },
  {
   "cell_type": "code",
   "execution_count": 26,
   "id": "f1c5bc80",
   "metadata": {},
   "outputs": [],
   "source": [
    "class DeleteAllDoublyLinkedList {\n",
    "  constructor() {\n",
    "    this.head = null;\n",
    "    this.tail = null;\n",
    "    this.length = 0;\n",
    "  }\n",
    "\n",
    "  append(value) {\n",
    "    const newNode = new DoublyLinkedListNode(value);\n",
    "    this.length++;\n",
    "    if (!this.head) {\n",
    "      this.head = newNode;\n",
    "      this.tail = newNode;\n",
    "      return this;\n",
    "    }\n",
    "    this.tail.next = newNode;\n",
    "    newNode.previous = this.tail;\n",
    "    this.tail = newNode;\n",
    "    return this;\n",
    "  }\n",
    "\n",
    "  deleteHead() {\n",
    "    if (!this.head) return null;\n",
    "    let deleted = this.head;\n",
    "    this.head = deleted.next;\n",
    "    this.head.previous = null;\n",
    "    deleted.next = null;\n",
    "    this.length--;\n",
    "    return deleted;\n",
    "  }\n",
    "\n",
    "  deleteTail() {\n",
    "    if (!this.head) return null;\n",
    "    let deleted = this.tail;\n",
    "    this.tail = deleted.previous;\n",
    "    this.tail.next = null;\n",
    "    deleted.previous = null;\n",
    "    this.length--;\n",
    "    return deleted;\n",
    "  }\n",
    "\n",
    "  deleteAll(value) {\n",
    "    // If the list is empty we return null.\n",
    "    if (!this.head) return null;\n",
    "\n",
    "    let deleted = null;\n",
    "    // If the head has this value, we delete the head constantly.\n",
    "    while (this.head.value === value)\n",
    "      deleted = this.deleteHead();\n",
    "\n",
    "    // If the tail has this value, we delete the tail constantly.\n",
    "    while (this.tail.value === value)\n",
    "      deleted = this.deleteTail();\n",
    "\n",
    "    // We delete all the value ocurrences throughout the list.\n",
    "    let currentNode = this.head;\n",
    "    while (currentNode) {\n",
    "      if (currentNode.value === value) {\n",
    "        deleted = currentNode;\n",
    "        currentNode.previous.next = deleted.next;\n",
    "        currentNode.next.previous = deleted.previous;\n",
    "        currentNode = deleted.next;\n",
    "        deleted.next = null;\n",
    "        deleted.previous = null;\n",
    "        this.length--;\n",
    "      }\n",
    "      else currentNode = currentNode.next;\n",
    "    }\n",
    "\n",
    "    return deleted;\n",
    "  }\n",
    "\n",
    "  fromArray(array) {\n",
    "    for (const e of array) {\n",
    "      this.append(e);\n",
    "    }\n",
    "    return this;\n",
    "  }\n",
    "\n",
    "  toString() {\n",
    "    const nodes = ['null'];\n",
    "    let currentNode = this.head;\n",
    "    while (currentNode) {\n",
    "      nodes.push(currentNode.value);\n",
    "      currentNode = currentNode.next;\n",
    "    }\n",
    "    nodes.push('null');\n",
    "    return nodes.join('<=>');\n",
    "  }\n",
    "}"
   ]
  },
  {
   "cell_type": "code",
   "execution_count": 27,
   "id": "2a37d934",
   "metadata": {},
   "outputs": [
    {
     "name": "stdout",
     "output_type": "stream",
     "text": [
      "Doubly Linked List before deleting ones: null<=>1<=>1<=>2<=>1<=>3<=>1<=>4<=>1<=>5<=>1<=>1<=>1<=>null\n",
      "Deleted node: {\"value\":1,\"previous\":null,\"next\":null}\n",
      "Doubly Linked List after deleting ones: null<=>2<=>3<=>4<=>5<=>null\n"
     ]
    }
   ],
   "source": [
    "doublyLinkedList = new DeleteAllDoublyLinkedList();\n",
    "doublyLinkedList.fromArray([1, 1, 2, 1, 3, 1, 4, 1, 5, 1, 1, 1]);\n",
    "console.log(`Doubly Linked List before deleting ones: ${doublyLinkedList.toString()}`);\n",
    "deletedNode = doublyLinkedList.deleteAll(1);\n",
    "console.log(`Deleted node: ${JSON.stringify(deletedNode)}`);\n",
    "console.log(`Doubly Linked List after deleting ones: ${doublyLinkedList.toString()}`);"
   ]
  },
  {
   "cell_type": "markdown",
   "id": "4a98b8ad",
   "metadata": {},
   "source": [
    "## Runtime Complexity Overview\n",
    "| Access | Search | Insertion                  | Deletion                   |\n",
    "|:------:|:------:|:--------------------------:|:--------------------------:|\n",
    "| $O(n)$ | $O(n)$ | $O(n)$ $O(1)$ at beginning | $O(n)$ $O(1)$ at beginning |`\n",
    "\n",
    "## Space Complexity\n",
    "Linked lists have $O(n)$ space complexity."
   ]
  }
 ],
 "metadata": {
  "kernelspec": {
   "display_name": "JavaScript (Node.js)",
   "language": "javascript",
   "name": "javascript"
  },
  "language_info": {
   "file_extension": ".js",
   "mimetype": "application/javascript",
   "name": "javascript",
   "version": "16.15.0"
  }
 },
 "nbformat": 4,
 "nbformat_minor": 5
}
