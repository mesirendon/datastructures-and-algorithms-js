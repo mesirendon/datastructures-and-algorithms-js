{
 "cells": [
  {
   "attachments": {},
   "cell_type": "markdown",
   "metadata": {},
   "source": [
    "[Back to Content](../../../../../content.md)\n",
    "\n",
    "[Back to Singly Linked Lists Excersises](../README.md)\n",
    "\n",
    "# Add Two Numbers\n",
    "You are given two **non-empty** linked lists representing two non-negative integers. The digits are stored in **reverse order**, and each of their nodes contains a single digit. Add the two numbers and return the sum as a linked list.\n",
    "\n",
    "You may assume the two numbers do not contain any leading zero, except the number 0 itself.\n",
    "\n",
    "![Add Two Numbers](add.jpg)\n",
    "\n",
    "## Constraints\n",
    "- The number of nodes in each linked list is in the range `[1, 100]`.\n",
    "- `0 <= Node.val <= 9`\n",
    "- It is guaranteed that the list represents a number that does not have leading zeros.\n",
    "\n",
    "## Test cases\n",
    "- Case `[2, 4, 3] + [5, 6, 4] = [7, 0, 8]`\n",
    "- Case `[0] + [0] = [0]`\n",
    "- Case `[9, 9, 9, 9, 9, 9, 9] + [9, 9, 9, 9] = [8, 9, 9, 9, 0, 0, 0, 1]`\n"
   ]
  },
  {
   "cell_type": "markdown",
   "metadata": {},
   "source": [
    "## Linked List Node Implementation\n",
    "We need a Linked List Node that allows us to represent the Linked List. Pay attention to the fact that this is not a Linked List Wrapper. We have a node header, so we must be extra careful not to lose the head reference for each list."
   ]
  },
  {
   "cell_type": "code",
   "execution_count": 1,
   "metadata": {},
   "outputs": [],
   "source": [
    "class ListNode {\n",
    "  constructor(val = null, next = null) {\n",
    "    this.value = val;\n",
    "    this.next = next;\n",
    "  }\n",
    "\n",
    "  toArray() {\n",
    "    const arr = [];\n",
    "    if (this.value === null) return arr;\n",
    "    let tmp = this;\n",
    "    while (tmp) {\n",
    "      arr.push(tmp.value);\n",
    "      tmp = tmp.next;\n",
    "    }\n",
    "    return arr;\n",
    "  }\n",
    "\n",
    "  toString() {\n",
    "    return this.toArray().toString();\n",
    "  }\n",
    "}"
   ]
  },
  {
   "cell_type": "markdown",
   "metadata": {},
   "source": [
    "## Understanding the problem\n",
    "![Add Two Numbers Solution](solution.png)\n",
    "\n",
    "The numbers are written in reverse order, which does mean `123` is written as `[3,2,1]`. That allows us to add digit by digit from left to right. By adding two single digits, we have two options: the number is less than ten or greater or equal to 10. The first case is easy, add the two digits and store the value in the result linked list position. However, if the number is greater or equal to ten, we must split the number, save the ones in the result-linked list, and carry the tens to a temporary variable added to the following digits in the sequence.\n",
    "\n",
    "We must also consider what happens when one of the lists is larger (i.e., it has more digits) than the other. We could mimic a zero for the shorter list and continue the process."
   ]
  },
  {
   "cell_type": "code",
   "execution_count": 2,
   "metadata": {},
   "outputs": [],
   "source": [
    "const addTwoNumbers = (l1, l2) => {\n",
    "  let lres = new ListNode();\n",
    "  let lresCurrent = lres;\n",
    "  let carry = 0;\n",
    "\n",
    "  while (l1 || l2) {\n",
    "    const sum =\n",
    "      (l1 ? l1.value : 0)\n",
    "      + (l2 ? l2.value : 0)\n",
    "      + carry;\n",
    "    if (sum >= 10) {\n",
    "      carry = parseInt(sum / 10);\n",
    "      lresCurrent.next = new ListNode(sum % 10);\n",
    "    }\n",
    "    else {\n",
    "      lresCurrent.next = new ListNode(sum);\n",
    "      carry = 0;\n",
    "    }\n",
    "    lresCurrent = lresCurrent.next;\n",
    "    if (l1) l1 = l1.next;\n",
    "    if (l2) l2 = l2.next;\n",
    "  }\n",
    "\n",
    "  if (carry) lresCurrent.next = new ListNode(carry);\n",
    "  lres = lres.next;\n",
    "  return lres;\n",
    "}"
   ]
  },
  {
   "cell_type": "markdown",
   "metadata": {},
   "source": [
    "## Testing test cases\n",
    "We can use the `buildListFromArray` helper to build a list out of an array.\n",
    "\n",
    "We can also use the `checkCase` helper to print out the result."
   ]
  },
  {
   "cell_type": "code",
   "execution_count": 3,
   "metadata": {},
   "outputs": [],
   "source": [
    "const buildListFromArray = (array) => {\n",
    "  let list = null;\n",
    "  array.reverse().forEach((value) => { list = new ListNode(value, list) });\n",
    "  return list;\n",
    "}\n",
    "\n",
    "const checkCase = (l1, l2) => {\n",
    "  let list1 = buildListFromArray(l1) || '';\n",
    "  let list2 = buildListFromArray(l2) || '';\n",
    "  let result = addTwoNumbers(list1, list2) || '';\n",
    "\n",
    "  console.log(`[${l1.reverse().toString()}] + [${l2.reverse().toString()}] = [${result.toString()}]`);\n",
    "}"
   ]
  },
  {
   "cell_type": "markdown",
   "metadata": {},
   "source": [
    "### Case `[2, 4, 3] + [5, 6, 4] = [7, 0, 8]`"
   ]
  },
  {
   "cell_type": "code",
   "execution_count": 4,
   "metadata": {},
   "outputs": [
    {
     "name": "stdout",
     "output_type": "stream",
     "text": [
      "[2,4,3] + [5,6,4] = [7,0,8]\n"
     ]
    }
   ],
   "source": [
    "checkCase([2, 4, 3], [5, 6, 4]);"
   ]
  },
  {
   "cell_type": "markdown",
   "metadata": {},
   "source": [
    "### Case `[0] + [0] = [0]`"
   ]
  },
  {
   "cell_type": "code",
   "execution_count": 5,
   "metadata": {},
   "outputs": [
    {
     "name": "stdout",
     "output_type": "stream",
     "text": [
      "[0] + [0] = [0]\n"
     ]
    }
   ],
   "source": [
    "checkCase([0], [0]);"
   ]
  },
  {
   "cell_type": "markdown",
   "metadata": {},
   "source": [
    "### Case `[9, 9, 9, 9, 9, 9, 9] + [9, 9, 9, 9] = [8, 9, 9, 9, 0, 0, 0, 1]`"
   ]
  },
  {
   "cell_type": "code",
   "execution_count": 6,
   "metadata": {},
   "outputs": [
    {
     "name": "stdout",
     "output_type": "stream",
     "text": [
      "[9,9,9,9,9,9,9] + [9,9,9,9] = [8,9,9,9,0,0,0,1]\n"
     ]
    }
   ],
   "source": [
    "checkCase([9, 9, 9, 9, 9, 9, 9], [9, 9, 9, 9]);"
   ]
  },
  {
   "attachments": {},
   "cell_type": "markdown",
   "metadata": {},
   "source": [
    "[Back to Content](../../../../../content.md)\n",
    "\n",
    "[Back to Singly Linked Lists Excersises](../README.md)"
   ]
  }
 ],
 "metadata": {
  "kernelspec": {
   "display_name": "JavaScript (Node.js)",
   "language": "javascript",
   "name": "javascript"
  },
  "language_info": {
   "file_extension": ".js",
   "mimetype": "application/javascript",
   "name": "javascript",
   "version": "16.15.0"
  },
  "orig_nbformat": 4
 },
 "nbformat": 4,
 "nbformat_minor": 2
}
