{
 "cells": [
  {
   "attachments": {},
   "cell_type": "markdown",
   "metadata": {},
   "source": [
    "[Back to Content](../../../../../content.md)\n",
    "\n",
    "[Back to Singly Linked Lists Excersises](../README.md)\n",
    "# Merge Two Sorted Lists (as nodes)\n",
    "You are given the heads of two sorted linked lists `list1` and `list2`.\n",
    "\n",
    "Merge the two lists in a one **sorted** list. The list should be made by splicing together the nodes of the first two lists.\n",
    "\n",
    "Return *the head of the merged linked list*.\n",
    "\n",
    "![Merge Two Sorted Lists](merge.jpg)\n",
    "\n",
    "## Constraints\n",
    "- The number of nodes in both lists is in the range `[0, 50]`.\n",
    "- -100 <= Node.value <= 100\n",
    "- Both `list1` and `list2` are sorted in **non-decreasing** order."
   ]
  },
  {
   "attachments": {},
   "cell_type": "markdown",
   "metadata": {},
   "source": [
    "## Test cases\n",
    "The following are some test cases to consider\n",
    "- Case `[] + [] = []`\n",
    "- Case `[] + [0] = [0]`\n",
    "- Case `[0] + [] = [0]`\n",
    "- Case `[1,2,4] + [1,3,4] = [1,1,2,3,4,4]`\n",
    "- Case `[1,2,3,9] + [-1,0,1,7,8] = [-1,0,1,1,2,3,7,8,9]`\n",
    "- Case `[1,2,3,9,11,12,13,14] + [-1,0,1,7,8,10] = [-1,0,1,1,2,3,7,8,9,10,11,12,13,14]`"
   ]
  },
  {
   "attachments": {},
   "cell_type": "markdown",
   "metadata": {},
   "source": [
    "## Linked List Node Implementation\n",
    "We need a Linked List Node that allows us to represent the Linked List. Pay attention to the fact that this is not a Linked List Wrapper. We have a node header, so we must be extra careful not to lose the head reference for each list."
   ]
  },
  {
   "cell_type": "code",
   "execution_count": 1,
   "metadata": {},
   "outputs": [],
   "source": [
    "class ListNode {\n",
    "  constructor(val = null, next = null) {\n",
    "    this.val = val;\n",
    "    this.next = next;\n",
    "  }\n",
    "\n",
    "  toArray() {\n",
    "    const arr = [];\n",
    "    if (this.val === null) return arr;\n",
    "    let tmp = this;\n",
    "    while (tmp) {\n",
    "      arr.push(tmp.val);\n",
    "      tmp = tmp.next;\n",
    "    }\n",
    "    return arr;\n",
    "  }\n",
    "\n",
    "  toString() {\n",
    "    return this.toArray().toString();\n",
    "  }\n",
    "}"
   ]
  },
  {
   "attachments": {},
   "cell_type": "markdown",
   "metadata": {},
   "source": [
    "## Understanding the problem\n",
    "As we can infer from the test cases, this solution must merge two sorted linked lists with the following considerations.\n",
    "\n",
    "- If both are empty, the solution must be empty as well.\n",
    "- What list comes first is not important\n",
    "- If a list is empty, but the other has an element, the result is the non-empty list\n",
    "- We must consider the case of insertion at head value."
   ]
  },
  {
   "cell_type": "code",
   "execution_count": 2,
   "metadata": {},
   "outputs": [],
   "source": [
    "const mergeTwoSortedLists = (list1, list2) => {\n",
    "  // Return null if both lists are empty.\n",
    "  if (!(list1 || list2)) return new ListNode();\n",
    "\n",
    "  // Return the non-empty list if the other is empty\n",
    "  if (!list1 && list2) return list2;\n",
    "  if (list1 && !list2) return list1;\n",
    "\n",
    "  // Considering the insertion at head.\n",
    "  if (list1 && list2 && list1.val >= list2.val) {\n",
    "    list1 = new ListNode(list2.val, list1);\n",
    "    list2 = list2.next;\n",
    "  }\n",
    "\n",
    "  // Insert within the list\n",
    "  let current = list1;\n",
    "  while (list2 && current.next) {\n",
    "    if (current.next.val >= list2.val) {\n",
    "      current.next = new ListNode(list2.val, current.next);\n",
    "      list2 = list2.next;\n",
    "    }\n",
    "    current = current.next;\n",
    "  }\n",
    "\n",
    "  // Complete with the remaining list2 if exists\n",
    "  if (list2) current.next = list2;\n",
    "  return list1;\n",
    "}"
   ]
  },
  {
   "attachments": {},
   "cell_type": "markdown",
   "metadata": {},
   "source": [
    "## Testing test cases\n",
    "We can use the `buildListFromArray` helper to build a list out of an array.\n",
    "\n",
    "We can also use the `checkCase` helper to print out the result."
   ]
  },
  {
   "cell_type": "code",
   "execution_count": 3,
   "metadata": {},
   "outputs": [],
   "source": [
    "const buildListFromArray = (array) => {\n",
    "  let list = null;\n",
    "  array.reverse().forEach((value) => { list = new ListNode(value, list) });\n",
    "  return list;\n",
    "}\n",
    "\n",
    "const checkCase = (l1, l2) => {\n",
    "  let list1 = buildListFromArray(l1) || '';\n",
    "  let list2 = buildListFromArray(l2) || '';\n",
    "  let result = mergeTwoSortedLists(list1, list2) || '';\n",
    "\n",
    "  console.log(`[${l1.reverse().toString()}] + [${l2.reverse().toString()}] = [${result.toString()}]`);\n",
    "}"
   ]
  },
  {
   "attachments": {},
   "cell_type": "markdown",
   "metadata": {},
   "source": [
    "### Case `[] + [] = []`"
   ]
  },
  {
   "cell_type": "code",
   "execution_count": 4,
   "metadata": {},
   "outputs": [
    {
     "name": "stdout",
     "output_type": "stream",
     "text": [
      "[] + [] = []\n"
     ]
    }
   ],
   "source": [
    "checkCase([], []);"
   ]
  },
  {
   "attachments": {},
   "cell_type": "markdown",
   "metadata": {},
   "source": [
    "### Case `[] + [0] = [0]`"
   ]
  },
  {
   "cell_type": "code",
   "execution_count": 5,
   "metadata": {},
   "outputs": [
    {
     "name": "stdout",
     "output_type": "stream",
     "text": [
      "[] + [0] = [0]\n"
     ]
    }
   ],
   "source": [
    "checkCase([], [0]);"
   ]
  },
  {
   "attachments": {},
   "cell_type": "markdown",
   "metadata": {},
   "source": [
    "### Case `[0] + [] = [0]`"
   ]
  },
  {
   "cell_type": "code",
   "execution_count": 6,
   "metadata": {},
   "outputs": [
    {
     "name": "stdout",
     "output_type": "stream",
     "text": [
      "[0] + [] = [0]\n"
     ]
    }
   ],
   "source": [
    "checkCase([0], []);"
   ]
  },
  {
   "attachments": {},
   "cell_type": "markdown",
   "metadata": {},
   "source": [
    "### Case `[1,2,4] + [1,3,4] = [1,1,2,3,4,4]`"
   ]
  },
  {
   "cell_type": "code",
   "execution_count": 7,
   "metadata": {},
   "outputs": [
    {
     "name": "stdout",
     "output_type": "stream",
     "text": [
      "[1,2,4] + [1,3,4] = [1,1,2,3,4,4]\n"
     ]
    }
   ],
   "source": [
    "checkCase([1, 2, 4], [1, 3, 4]);"
   ]
  },
  {
   "attachments": {},
   "cell_type": "markdown",
   "metadata": {},
   "source": [
    "### Case `[1,2,3,9] + [-1,0,1,7,8] = [-1,0,1,1,2,3,7,8,9]`"
   ]
  },
  {
   "cell_type": "code",
   "execution_count": 8,
   "metadata": {},
   "outputs": [
    {
     "name": "stdout",
     "output_type": "stream",
     "text": [
      "[1,2,3,9] + [-1,0,1,7,8] = [-1,0,1,1,2,3,7,8,9]\n"
     ]
    }
   ],
   "source": [
    "checkCase([1, 2, 3, 9], [-1, 0, 1, 7, 8]);"
   ]
  },
  {
   "attachments": {},
   "cell_type": "markdown",
   "metadata": {},
   "source": [
    "### Case `[1,2,3,9,11,12,13,14] + [-1,0,1,7,8,10] = [-1,0,1,1,2,3,7,8,9,10,11,12,13,14]`"
   ]
  },
  {
   "cell_type": "code",
   "execution_count": 9,
   "metadata": {},
   "outputs": [
    {
     "name": "stdout",
     "output_type": "stream",
     "text": [
      "[1,2,3,9,11,12,13,14] + [-1,0,1,7,8,10] = [-1,0,1,1,2,3,7,8,9,10,11,12,13,14]\n"
     ]
    }
   ],
   "source": [
    "checkCase([1, 2, 3, 9, 11, 12, 13, 14], [-1, 0, 1, 7, 8, 10]);"
   ]
  },
  {
   "attachments": {},
   "cell_type": "markdown",
   "metadata": {},
   "source": [
    "[Back to Content](../../../../../content.md)\n",
    "\n",
    "[Back to Singly Linked Lists Excersises](../README.md)"
   ]
  }
 ],
 "metadata": {
  "kernelspec": {
   "display_name": "JavaScript (Node.js)",
   "language": "javascript",
   "name": "javascript"
  },
  "language_info": {
   "file_extension": ".js",
   "mimetype": "application/javascript",
   "name": "javascript",
   "version": "16.15.0"
  },
  "orig_nbformat": 4,
  "vscode": {
   "interpreter": {
    "hash": "b0fa6594d8f4cbf19f97940f81e996739fb7646882a419484c72d19e05852a7e"
   }
  }
 },
 "nbformat": 4,
 "nbformat_minor": 2
}
