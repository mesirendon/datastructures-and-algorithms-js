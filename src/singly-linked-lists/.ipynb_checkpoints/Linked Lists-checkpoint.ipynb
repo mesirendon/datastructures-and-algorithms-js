{
 "cells": [
  {
   "cell_type": "markdown",
   "id": "c10ba526",
   "metadata": {},
   "source": [
    "# Singly Linked List\n",
    "Linked lists are linear dynamic data structures able to manage memory at runtime. On the surface, it might look like both arrays and linked lists are the same, but underneath, their behavior makes them different.\n",
    "\n",
    "Elements in a linked list can point to the next element, rather than letting the data structure pointing to a specific physical memory location. These elements are widely known as Linked List Nodes or simply Nodes.\n",
    "\n",
    "Nodes represent not only a value, but a reference to the next node (i.e. next node's memory address). This extra reference is known as a Link.\n",
    "\n",
    "![Linked List](assets/linked-list.png)\n",
    "\n",
    "Unlike arrays, linked lists do not provide constant time access to a particular node in the list. This mean you have to traverse the whole list until you find the element. But adding and removing elements from the beginning of the list can be done in constant time.\n",
    "\n",
    "## Linked List Nodes\n",
    "The following is the implementation of a Linked List Node."
   ]
  },
  {
   "cell_type": "code",
   "execution_count": 1,
   "id": "53559ad7",
   "metadata": {},
   "outputs": [],
   "source": [
    "class LinkedListNode {\n",
    "  /**\n",
    "   * Builds a Linked List Node\n",
    "   * @param {any} value Node value\n",
    "   * @param {LinkedListNode} next Next node\n",
    "   */\n",
    "  constructor(value, next = null) {\n",
    "    this.value = value;\n",
    "    this.next = next;\n",
    "  }\n",
    "}"
   ]
  },
  {
   "cell_type": "markdown",
   "id": "5ecb99e6",
   "metadata": {},
   "source": [
    "While you can perform certain operations using this data structure, you must be careful because access to the list is done via referencing the head node. And this can be lost, or if many objects could reference a node that was supposed to be the head but then it has changed."
   ]
  },
  {
   "cell_type": "code",
   "execution_count": 2,
   "id": "e45f0c42",
   "metadata": {},
   "outputs": [
    {
     "name": "stdout",
     "output_type": "stream",
     "text": [
      "Head:\n",
      " LinkedListNode {\n",
      "  value: 1,\n",
      "  next: LinkedListNode {\n",
      "    value: 2,\n",
      "    next: LinkedListNode { value: undefined, next: null }\n",
      "  }\n",
      "}\n",
      "Head: null\n"
     ]
    }
   ],
   "source": [
    "head = new LinkedListNode(1, new LinkedListNode(2, new LinkedListNode, 3));\n",
    "console.log('Head:\\n', head);\n",
    "\n",
    "while(head) {\n",
    "    head = head.next;\n",
    "}\n",
    "\n",
    "console.log('Head:', head);"
   ]
  },
  {
   "cell_type": "markdown",
   "id": "173e93bb",
   "metadata": {},
   "source": [
    "How could we solve such a nuance? We could implement the actual wrapper for the linked list for all its nodes.\n",
    "\n",
    "## Linked List\n",
    "Let's see the most basic `LinkedList` wrapper to implement with the append action (I'll cover this later).\n",
    "\n",
    "**Note:** I'll be changing the `LinkedList` implementation to perform explanations better in a succint manner for each section. If you want to check the whole implementation, take a look to the [LinkedListNode](LinkedListNode.js) and [LinkedList](LinkedList.js) files. It is also worthy to check how they are connected through the tests in the [test](__test__/linked-lists.spec.js)"
   ]
  },
  {
   "cell_type": "code",
   "execution_count": 3,
   "id": "2fa2c88b",
   "metadata": {},
   "outputs": [],
   "source": [
    "class BasicLinkedList {\n",
    "    /**\n",
    "    * Builds a linked list.\n",
    "    */\n",
    "    constructor(head) {\n",
    "        /** @var LinkedListNode */\n",
    "        this.head = null;\n",
    "\n",
    "        /** @var LinkedListNode */\n",
    "        this.tail = null;\n",
    "    }\n",
    "    /**\n",
    "    * \n",
    "    * @param {any} value Value to append\n",
    "    * @returns {LinkedList} This linked list\n",
    "    */\n",
    "    append(value) {\n",
    "        const node = new LinkedListNode(value);\n",
    "        this.size++;\n",
    "\n",
    "        // The new node is the head if this list is empty\n",
    "        if (!this.head) {\n",
    "          this.head = node;\n",
    "          this.tail = node;\n",
    "\n",
    "          return this;\n",
    "        }\n",
    "\n",
    "        // Attach the new node to the end of the linked list\n",
    "        this.tail.next = node;\n",
    "        this.tail = node;\n",
    "\n",
    "        return this;\n",
    "    }\n",
    "    /**\n",
    "    * Returns a string representing this linked list separated by commas\n",
    "    * @returns {string} This linked list string representation\n",
    "    */\n",
    "    toString(stringifierFn) {\n",
    "        const nodes = [];\n",
    "        let currentNode = this.head;\n",
    "        while(currentNode) {\n",
    "            nodes.push(currentNode.value);\n",
    "            currentNode = currentNode.next;\n",
    "        }\n",
    "        return nodes.join('->');\n",
    "    }\n",
    "}"
   ]
  },
  {
   "cell_type": "markdown",
   "id": "fbce630c",
   "metadata": {},
   "source": [
    "Let's run our previous example to see how we don't lose track of the head."
   ]
  },
  {
   "cell_type": "code",
   "execution_count": 5,
   "id": "ef7741fd",
   "metadata": {},
   "outputs": [
    {
     "name": "stdout",
     "output_type": "stream",
     "text": [
      "Linked List:\n",
      " [object Object]->[object Object]->[object Object]->[object Object]->[object Object]\n",
      "Head: null\n",
      "Linked List:\n",
      " [object Object]->[object Object]->[object Object]->[object Object]->[object Object]\n"
     ]
    }
   ],
   "source": [
    "linkedList = new BasicLinkedList();\n",
    "linkedList\n",
    "    .append(new LinkedListNode(1))\n",
    "    .append(new LinkedListNode(2))\n",
    "    .append(new LinkedListNode(3))\n",
    "    .append(new LinkedListNode(4))\n",
    "    .append(new LinkedListNode(5));\n",
    "\n",
    "console.log('Linked List:\\n', linkedList.toString());\n",
    "\n",
    "head = linkedList.head;\n",
    "while(head) {\n",
    "    head = head.next\n",
    "}\n",
    "\n",
    "console.log('Head:', head);\n",
    "\n",
    "console.log('Linked List:\\n', linkedList.toString());"
   ]
  }
 ],
 "metadata": {
  "kernelspec": {
   "display_name": "JavaScript (Node.js)",
   "language": "javascript",
   "name": "javascript"
  },
  "language_info": {
   "file_extension": ".js",
   "mimetype": "application/javascript",
   "name": "javascript",
   "version": "16.15.0"
  }
 },
 "nbformat": 4,
 "nbformat_minor": 5
}
